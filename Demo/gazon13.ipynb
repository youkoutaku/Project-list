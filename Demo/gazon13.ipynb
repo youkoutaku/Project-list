{
 "cells": [
  {
   "cell_type": "code",
   "execution_count": 2,
   "metadata": {},
   "outputs": [
    {
     "name": "stdout",
     "output_type": "stream",
     "text": [
      "data=[39 52 36 29 68 59 43 46 42 56]\n",
      "\n",
      "68 29\n",
      "B=[0.25641026 0.58974359 0.17948718 0.         1.         0.76923077\n",
      " 0.35897436 0.43589744 0.33333333 0.69230769]\n",
      "\n",
      "C=[39, 42.333333333333336, 39.0, 44.333333333333336, 52.0, 56.666666666666664, 49.333333333333336, 43.666666666666664, 48.0, 56]\n",
      "\n",
      "D=[50, 79.0, 41.0, 3.999999999999993, 98.0, 57.00000000000001, 30.999999999999993, 57.00000000000001, 32.0, 50]\n",
      "\n"
     ]
    }
   ],
   "source": [
    "import numpy as np\n",
    "data = np.array([39, 52, 36, 29, 68, 59, 43, 46, 42, 56])\n",
    "d_max = np.amax(data)\n",
    "d_min = np.amin(data)\n",
    "\n",
    "print(f'data={data}\\n')\n",
    "#13B\n",
    "data_s = (data-d_min) / (d_max-d_min)\n",
    "print(d_max, d_min)\n",
    "print(f'B={data_s}\\n')\n",
    "\n",
    "#13C\n",
    "data_c = []\n",
    "data_c.append(data[0])\n",
    "for i in range(1,9):\n",
    "    data_c.append(  (data[i] + data[i-1]+ data[i+1]) /3  )\n",
    "data_c.append(data[-1])\n",
    "\n",
    "print(f'C={data_c}\\n')\n",
    "\n",
    "#13DW\n",
    "data_d =[]\n",
    "\n",
    "for i in range(0,10):\n",
    "    data_d.append( (data[i] - data_c[i])*3 + 50 )\n",
    "print(f'D={data_d}\\n')\n"
   ]
  }
 ],
 "metadata": {
  "kernelspec": {
   "display_name": "Python 3",
   "language": "python",
   "name": "python3"
  },
  "language_info": {
   "codemirror_mode": {
    "name": "ipython",
    "version": 3
   },
   "file_extension": ".py",
   "mimetype": "text/x-python",
   "name": "python",
   "nbconvert_exporter": "python",
   "pygments_lexer": "ipython3",
   "version": "3.10.5"
  },
  "orig_nbformat": 4,
  "vscode": {
   "interpreter": {
    "hash": "238fe4af9a3ef1dbe73a153de40f9e87630483c1268a53a7d6ae4ef57e9f4eb7"
   }
  }
 },
 "nbformat": 4,
 "nbformat_minor": 2
}
